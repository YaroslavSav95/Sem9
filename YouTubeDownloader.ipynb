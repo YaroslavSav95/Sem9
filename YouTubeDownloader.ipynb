{
  "nbformat": 4,
  "nbformat_minor": 0,
  "metadata": {
    "colab": {
      "provenance": [],
      "authorship_tag": "ABX9TyO2Vy7KF/gSYp04zztkvKWa",
      "include_colab_link": true
    },
    "kernelspec": {
      "name": "python3",
      "display_name": "Python 3"
    },
    "language_info": {
      "name": "python"
    }
  },
  "cells": [
    {
      "cell_type": "markdown",
      "metadata": {
        "id": "view-in-github",
        "colab_type": "text"
      },
      "source": [
        "<a href=\"https://colab.research.google.com/github/YaroslavSav95/Sem9/blob/main/YouTubeDownloader.ipynb\" target=\"_parent\"><img src=\"https://colab.research.google.com/assets/colab-badge.svg\" alt=\"Open In Colab\"/></a>"
      ]
    },
    {
      "cell_type": "code",
      "execution_count": null,
      "metadata": {
        "id": "0hdnwW56d3Sk"
      },
      "outputs": [],
      "source": [
        "pip install pytube"
      ]
    },
    {
      "cell_type": "code",
      "source": [
        "from pytube import YouTube\n",
        "def video_downloader(video_url):\n",
        "    my_video = YouTube(video_url)\n",
        "    my_video.streams.get_highest_resolution().download()\n",
        "    return my_video.title\n",
        "\n",
        "try:\n",
        "    youtube_link = input('Enter the YouTube link:')\n",
        "    print(f'Downloading your Video, please wait.......')\n",
        "    video = video_downloader(youtube_link)\n",
        "    print(f'\"{video}\" downloaded successfully!!')\n",
        "except:\n",
        "    print(f'Failed to download video\\nThe '\\\n",
        "          'following might be the causes\\n->No internet '\\\n",
        "          'connection\\n->Invalid video link')"
      ],
      "metadata": {
        "id": "-ieOyNY3es4H"
      },
      "execution_count": null,
      "outputs": []
    }
  ]
}