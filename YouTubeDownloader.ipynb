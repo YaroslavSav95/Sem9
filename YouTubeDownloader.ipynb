{
  "nbformat": 4,
  "nbformat_minor": 0,
  "metadata": {
    "colab": {
      "provenance": [],
      "authorship_tag": "ABX9TyO2Vy7KF/gSYp04zztkvKWa",
      "include_colab_link": true
    },
    "kernelspec": {
      "name": "python3",
      "display_name": "Python 3"
    },
    "language_info": {
      "name": "python"
    }
  },
  "cells": [
    {
      "cell_type": "markdown",
      "metadata": {
        "id": "view-in-github",
        "colab_type": "text"
      },
      "source": [
        "<a href=\"https://colab.research.google.com/github/YaroslavSav95/Sem9/blob/main/YouTubeDownloader.ipynb\" target=\"_parent\"><img src=\"https://colab.research.google.com/assets/colab-badge.svg\" alt=\"Open In Colab\"/></a>"
      ]
    },
    {
      "cell_type": "code",
      "execution_count": 2,
      "metadata": {
        "colab": {
          "base_uri": "https://localhost:8080/"
        },
        "id": "0hdnwW56d3Sk",
        "outputId": "6ab6b5fe-da2d-4bfb-82cf-4ddb9e8c21a6"
      },
      "outputs": [
        {
          "output_type": "stream",
          "name": "stdout",
          "text": [
            "Looking in indexes: https://pypi.org/simple, https://us-python.pkg.dev/colab-wheels/public/simple/\n",
            "Collecting pytube\n",
            "  Downloading pytube-12.1.2-py3-none-any.whl (57 kB)\n",
            "\u001b[2K     \u001b[90m━━━━━━━━━━━━━━━━━━━━━━━━━━━━━━━━━━━━━━━━\u001b[0m \u001b[32m57.0/57.0 KB\u001b[0m \u001b[31m3.1 MB/s\u001b[0m eta \u001b[36m0:00:00\u001b[0m\n",
            "\u001b[?25hInstalling collected packages: pytube\n",
            "Successfully installed pytube-12.1.2\n"
          ]
        }
      ],
      "source": [
        "pip install pytube"
      ]
    },
    {
      "cell_type": "code",
      "source": [
        "from pytube import YouTube\n",
        "def video_downloader(video_url):\n",
        "    my_video = YouTube(video_url)\n",
        "    my_video.streams.get_highest_resolution().download()\n",
        "    return my_video.title\n",
        "\n",
        "try:\n",
        "    youtube_link = input('Enter the YouTube link:')\n",
        "    print(f'Downloading your Video, please wait.......')\n",
        "    video = video_downloader(youtube_link)\n",
        "    print(f'\"{video}\" downloaded successfully!!')\n",
        "except:\n",
        "    print(f'Failed to download video\\nThe '\\\n",
        "          'following might be the causes\\n->No internet '\\\n",
        "          'connection\\n->Invalid video link')"
      ],
      "metadata": {
        "colab": {
          "base_uri": "https://localhost:8080/"
        },
        "id": "-ieOyNY3es4H",
        "outputId": "cb7c34cc-1dc2-4d21-c93b-24beac8fb579"
      },
      "execution_count": 5,
      "outputs": [
        {
          "output_type": "stream",
          "name": "stdout",
          "text": [
            "Enter the YouTube link:https://www.youtube.com/watch?v=4CDIzr0VDRk\n",
            "Downloading your Video, please wait.......\n",
            "\"Иноагенту Галкину начало прилетать из России (Борис Первушин)\" downloaded successfully!!\n"
          ]
        }
      ]
    }
  ]
}