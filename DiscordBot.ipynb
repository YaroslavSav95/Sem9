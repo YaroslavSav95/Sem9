{
  "nbformat": 4,
  "nbformat_minor": 0,
  "metadata": {
    "colab": {
      "provenance": [],
      "authorship_tag": "ABX9TyP7NowBGE3gNONGD0cowPvR",
      "include_colab_link": true
    },
    "kernelspec": {
      "name": "python3",
      "display_name": "Python 3"
    },
    "language_info": {
      "name": "python"
    }
  },
  "cells": [
    {
      "cell_type": "markdown",
      "metadata": {
        "id": "view-in-github",
        "colab_type": "text"
      },
      "source": [
        "<a href=\"https://colab.research.google.com/github/YaroslavSav95/Sem9/blob/main/DiscordBot.ipynb\" target=\"_parent\"><img src=\"https://colab.research.google.com/assets/colab-badge.svg\" alt=\"Open In Colab\"/></a>"
      ]
    },
    {
      "cell_type": "code",
      "execution_count": null,
      "metadata": {
        "id": "YNIM08Th_ptL"
      },
      "outputs": [],
      "source": [
        "import discord\n",
        "from discord.ext import commands\n",
        "config={\n",
        "    'token':'token',\n",
        "    'prefix':'prefix',\n",
        "}\n",
        "bot = commands.Bot(command_prefix=config['prefix'])\n",
        "async def message(ctx):\n",
        "  if ctx.autor!=ctx.user:\n",
        "    await ctx.reply(ctx.content)\n",
        "bot.run(config['token'])"
      ]
    }
  ]
}